{
 "cells": [
  {
   "cell_type": "markdown",
   "id": "03bf942c",
   "metadata": {},
   "source": [
    "## Install Dependencies"
   ]
  },
  {
   "cell_type": "code",
   "execution_count": 2,
   "id": "224d3d37",
   "metadata": {},
   "outputs": [
    {
     "name": "stdout",
     "output_type": "stream",
     "text": [
      "Package                       Version\n",
      "----------------------------- ---------------\n",
      "absl-py                       1.4.0\n",
      "aiobotocore                   2.4.2\n",
      "aiofiles                      22.1.0\n",
      "aiohttp                       3.8.3\n",
      "aioitertools                  0.7.1\n",
      "aiosignal                     1.2.0\n",
      "aiosqlite                     0.18.0\n",
      "alabaster                     0.7.12\n",
      "anaconda-anon-usage           0.4.0\n",
      "anaconda-catalogs             0.2.0\n",
      "anaconda-client               1.11.3\n",
      "anaconda-cloud-auth           0.1.3\n",
      "anaconda-navigator            2.5.0\n",
      "anaconda-project              0.11.1\n",
      "anyio                         3.5.0\n",
      "appdirs                       1.4.4\n",
      "argon2-cffi                   21.3.0\n",
      "argon2-cffi-bindings          21.2.0\n",
      "arrow                         1.2.3\n",
      "astroid                       2.14.2\n",
      "astropy                       5.1\n",
      "asttokens                     2.0.5\n",
      "astunparse                    1.6.3\n",
      "async-timeout                 4.0.2\n",
      "atomicwrites                  1.4.0\n",
      "attrs                         22.1.0\n",
      "Automat                       20.2.0\n",
      "autopep8                      1.6.0\n",
      "Babel                         2.11.0\n",
      "backcall                      0.2.0\n",
      "backports.functools-lru-cache 1.6.4\n",
      "backports.tempfile            1.0\n",
      "backports.weakref             1.0.post1\n",
      "bcrypt                        3.2.0\n",
      "beautifulsoup4                4.12.2\n",
      "binaryornot                   0.4.4\n",
      "black                         0.0\n",
      "bleach                        4.1.0\n",
      "bokeh                         3.1.1\n",
      "boltons                       23.0.0\n",
      "boto3                         1.24.28\n",
      "botocore                      1.27.59\n",
      "Bottleneck                    1.3.5\n",
      "brotlipy                      0.7.0\n",
      "cachetools                    5.3.1\n",
      "certifi                       2023.7.22\n",
      "cffi                          1.15.1\n",
      "chardet                       4.0.0\n",
      "charset-normalizer            2.0.4\n",
      "click                         8.0.4\n",
      "cloudpickle                   2.2.1\n",
      "clyent                        1.2.2\n",
      "colorama                      0.4.6\n",
      "colorcet                      3.0.1\n",
      "comm                          0.1.2\n",
      "conda                         23.7.4\n",
      "conda-build                   3.25.0\n",
      "conda-content-trust           0.1.3\n",
      "conda_index                   0.2.3\n",
      "conda-libmamba-solver         23.5.0\n",
      "conda-pack                    0.6.0\n",
      "conda-package-handling        2.1.0\n",
      "conda_package_streaming       0.8.0\n",
      "conda-repo-cli                1.0.41\n",
      "conda-token                   0.4.0\n",
      "conda-verify                  3.4.2\n",
      "constantly                    15.1.0\n",
      "contourpy                     1.0.5\n",
      "cookiecutter                  1.7.3\n",
      "cryptography                  39.0.1\n",
      "cssselect                     1.1.0\n",
      "cycler                        0.11.0\n",
      "cytoolz                       0.12.0\n",
      "daal4py                       2023.1.1\n",
      "dask                          2023.6.0\n",
      "datashader                    0.15.0\n",
      "datashape                     0.5.4\n",
      "debugpy                       1.5.1\n",
      "decorator                     5.1.1\n",
      "defusedxml                    0.7.1\n",
      "diff-match-patch              20200713\n",
      "dill                          0.3.6\n",
      "distributed                   2023.6.0\n",
      "docstring-to-markdown         0.11\n",
      "docutils                      0.18.1\n",
      "entrypoints                   0.4\n",
      "et-xmlfile                    1.1.0\n",
      "executing                     0.8.3\n",
      "fastjsonschema                2.16.2\n",
      "filelock                      3.9.0\n",
      "flake8                        6.0.0\n",
      "Flask                         2.2.2\n",
      "flatbuffers                   23.5.26\n",
      "fonttools                     4.25.0\n",
      "frozenlist                    1.3.3\n",
      "fsspec                        2023.3.0\n",
      "future                        0.18.3\n",
      "gast                          0.4.0\n",
      "gensim                        4.3.0\n",
      "glob2                         0.7\n",
      "google-auth                   2.22.0\n",
      "google-auth-oauthlib          1.0.0\n",
      "google-pasta                  0.2.0\n",
      "greenlet                      2.0.1\n",
      "grpcio                        1.58.0\n",
      "h5py                          3.7.0\n",
      "HeapDict                      1.0.1\n",
      "holoviews                     1.16.2\n",
      "hvplot                        0.8.4\n",
      "hyperlink                     21.0.0\n",
      "idna                          3.4\n",
      "imagecodecs                   2021.8.26\n",
      "imageio                       2.26.0\n",
      "imagesize                     1.4.1\n",
      "imbalanced-learn              0.10.1\n",
      "importlib-metadata            6.0.0\n",
      "incremental                   21.3.0\n",
      "inflection                    0.5.1\n",
      "iniconfig                     1.1.1\n",
      "intake                        0.6.8\n",
      "intervaltree                  3.1.0\n",
      "ipykernel                     6.19.2\n",
      "ipython                       8.12.0\n",
      "ipython-genutils              0.2.0\n",
      "ipywidgets                    8.0.4\n",
      "isort                         5.9.3\n",
      "itemadapter                   0.3.0\n",
      "itemloaders                   1.0.4\n",
      "itsdangerous                  2.0.1\n",
      "jaraco.classes                3.2.1\n",
      "jedi                          0.18.1\n",
      "jellyfish                     0.9.0\n",
      "Jinja2                        3.1.2\n",
      "jinja2-time                   0.2.0\n",
      "jmespath                      0.10.0\n",
      "joblib                        1.2.0\n",
      "json5                         0.9.6\n",
      "jsonpatch                     1.32\n",
      "jsonpointer                   2.1\n",
      "jsonschema                    4.17.3\n",
      "jupyter                       1.0.0\n",
      "jupyter_client                7.4.9\n",
      "jupyter-console               6.6.3\n",
      "jupyter_core                  5.3.0\n",
      "jupyter-events                0.6.3\n",
      "jupyter-server                1.23.4\n",
      "jupyter_server_fileid         0.9.0\n",
      "jupyter_server_terminals      0.4.4\n",
      "jupyter_server_ydoc           0.8.0\n",
      "jupyter-ydoc                  0.2.4\n",
      "jupyterlab                    3.6.3\n",
      "jupyterlab-pygments           0.1.2\n",
      "jupyterlab_server             2.22.0\n",
      "jupyterlab-widgets            3.0.5\n",
      "kaggle                        1.5.16\n",
      "keras                         2.13.1\n",
      "keyring                       23.13.1\n",
      "kiwisolver                    1.4.4\n",
      "lazy_loader                   0.2\n",
      "lazy-object-proxy             1.6.0\n",
      "libarchive-c                  2.9\n",
      "libclang                      16.0.6\n",
      "libmambapy                    1.4.1\n",
      "linkify-it-py                 2.0.0\n",
      "llvmlite                      0.40.0\n",
      "lmdb                          1.4.1\n",
      "locket                        1.0.0\n",
      "lxml                          4.9.2\n",
      "lz4                           4.3.2\n",
      "Markdown                      3.4.1\n",
      "markdown-it-py                2.2.0\n",
      "MarkupSafe                    2.1.1\n",
      "matplotlib                    3.7.1\n",
      "matplotlib-inline             0.1.6\n",
      "mccabe                        0.7.0\n",
      "mdit-py-plugins               0.3.0\n",
      "mdurl                         0.1.0\n",
      "mediapipe                     0.10.7\n",
      "menuinst                      1.4.19\n",
      "mistune                       0.8.4\n",
      "mkl-fft                       1.3.6\n",
      "mkl-random                    1.2.2\n",
      "mkl-service                   2.4.0\n",
      "more-itertools                8.12.0\n",
      "mpmath                        1.2.1\n",
      "msgpack                       1.0.3\n",
      "multidict                     6.0.2\n",
      "multipledispatch              0.6.0\n",
      "munkres                       1.1.4\n",
      "mypy-extensions               0.4.3\n",
      "navigator-updater             0.4.0\n",
      "nbclassic                     0.5.5\n",
      "nbclient                      0.5.13\n",
      "nbconvert                     6.5.4\n",
      "nbformat                      5.7.0\n",
      "nest-asyncio                  1.5.6\n",
      "networkx                      2.8.4\n",
      "nltk                          3.7\n",
      "notebook                      6.5.4\n",
      "notebook_shim                 0.2.2\n",
      "numba                         0.57.0\n",
      "numexpr                       2.8.4\n",
      "numpy                         1.24.3\n",
      "numpydoc                      1.5.0\n",
      "oauthlib                      3.2.2\n",
      "opencv-contrib-python         4.8.1.78\n",
      "opencv-python                 4.8.0.76\n",
      "openpyxl                      3.0.10\n",
      "opt-einsum                    3.3.0\n",
      "packaging                     23.0\n",
      "pandas                        1.5.3\n",
      "pandocfilters                 1.5.0\n",
      "panel                         1.1.0\n",
      "param                         1.13.0\n",
      "paramiko                      2.8.1\n",
      "parsel                        1.6.0\n",
      "parso                         0.8.3\n",
      "partd                         1.2.0\n",
      "pathlib                       1.0.1\n",
      "pathspec                      0.10.3\n",
      "patsy                         0.5.3\n",
      "pep8                          1.7.1\n",
      "pexpect                       4.8.0\n",
      "pickleshare                   0.7.5\n",
      "Pillow                        9.4.0\n",
      "pip                           23.1.2\n",
      "pkce                          1.0.3\n",
      "pkginfo                       1.9.6\n",
      "platformdirs                  2.5.2\n",
      "plotly                        5.9.0\n",
      "pluggy                        1.0.0\n",
      "ply                           3.11\n",
      "pooch                         1.4.0\n",
      "poyo                          0.5.0\n",
      "prometheus-client             0.14.1\n",
      "prompt-toolkit                3.0.36\n",
      "Protego                       0.1.16\n",
      "protobuf                      3.20.3\n",
      "psutil                        5.9.0\n",
      "ptyprocess                    0.7.0\n",
      "pure-eval                     0.2.2\n",
      "py-cpuinfo                    8.0.0\n",
      "pyarrow                       11.0.0\n",
      "pyasn1                        0.4.8\n",
      "pyasn1-modules                0.2.8\n",
      "pycodestyle                   2.10.0\n",
      "pycosat                       0.6.4\n",
      "pycparser                     2.21\n",
      "pyct                          0.5.0\n",
      "pycurl                        7.45.2\n",
      "pydantic                      1.10.8\n",
      "PyDispatcher                  2.0.5\n",
      "pydocstyle                    6.3.0\n",
      "pyerfa                        2.0.0\n",
      "pyflakes                      3.0.1\n",
      "pygame                        2.5.2\n",
      "Pygments                      2.15.1\n",
      "PyJWT                         2.4.0\n",
      "pylint                        2.16.2\n",
      "pylint-venv                   2.3.0\n",
      "pyls-spyder                   0.4.0\n",
      "PyNaCl                        1.5.0\n",
      "pyodbc                        4.0.34\n",
      "pyOpenSSL                     23.0.0\n",
      "pyparsing                     3.0.9\n",
      "PyQt5                         5.15.7\n",
      "PyQt5-sip                     12.11.0\n",
      "PyQtWebEngine                 5.15.4\n",
      "pyrsistent                    0.18.0\n",
      "PySocks                       1.7.1\n",
      "pytest                        7.3.1\n",
      "python-dateutil               2.8.2\n",
      "python-dotenv                 0.21.0\n",
      "python-json-logger            2.0.7\n",
      "python-lsp-black              1.2.1\n",
      "python-lsp-jsonrpc            1.0.0\n",
      "python-lsp-server             1.7.2\n",
      "python-slugify                5.0.2\n",
      "python-snappy                 0.6.1\n",
      "pytoolconfig                  1.2.5\n",
      "pytz                          2022.7\n",
      "pyviz-comms                   2.3.0\n",
      "PyWavelets                    1.4.1\n",
      "pywin32                       305.1\n",
      "pywin32-ctypes                0.2.0\n",
      "pywinpty                      2.0.10\n",
      "PyYAML                        6.0\n",
      "pyzmq                         23.2.0\n",
      "QDarkStyle                    3.0.2\n",
      "qstylizer                     0.2.2\n",
      "QtAwesome                     1.2.2\n",
      "qtconsole                     5.4.2\n",
      "QtPy                          2.2.0\n",
      "queuelib                      1.5.0\n",
      "regex                         2022.7.9\n",
      "requests                      2.29.0\n",
      "requests-file                 1.5.1\n",
      "requests-oauthlib             1.3.1\n",
      "requests-toolbelt             0.9.1\n",
      "rfc3339-validator             0.1.4\n",
      "rfc3986-validator             0.1.1\n",
      "rope                          1.7.0\n",
      "rsa                           4.9\n",
      "Rtree                         1.0.1\n",
      "ruamel.yaml                   0.17.21\n",
      "ruamel-yaml-conda             0.17.21\n",
      "s3fs                          2023.3.0\n",
      "s3transfer                    0.6.0\n",
      "sacremoses                    0.0.43\n",
      "scikit-image                  0.20.0\n",
      "scikit-learn                  1.2.2\n",
      "scikit-learn-intelex          20230426.121932\n",
      "scipy                         1.10.1\n",
      "Scrapy                        2.8.0\n",
      "seaborn                       0.12.2\n",
      "Send2Trash                    1.8.0\n",
      "service-identity              18.1.0\n",
      "setuptools                    67.8.0\n",
      "sip                           6.6.2\n",
      "six                           1.16.0\n",
      "smart-open                    5.2.1\n",
      "sniffio                       1.2.0\n",
      "snowballstemmer               2.2.0\n",
      "sortedcontainers              2.4.0\n",
      "sounddevice                   0.4.6\n",
      "soupsieve                     2.4\n",
      "Sphinx                        5.0.2\n",
      "sphinxcontrib-applehelp       1.0.2\n",
      "sphinxcontrib-devhelp         1.0.2\n",
      "sphinxcontrib-htmlhelp        2.0.0\n",
      "sphinxcontrib-jsmath          1.0.1\n",
      "sphinxcontrib-qthelp          1.0.3\n",
      "sphinxcontrib-serializinghtml 1.1.5\n",
      "spyder                        5.4.3\n",
      "spyder-kernels                2.4.3\n",
      "SQLAlchemy                    1.4.39\n",
      "stack-data                    0.2.0\n",
      "statsmodels                   0.13.5\n",
      "sympy                         1.11.1\n",
      "tables                        3.8.0\n",
      "tabulate                      0.8.10\n",
      "TBB                           0.2\n",
      "tblib                         1.7.0\n",
      "tenacity                      8.2.2\n",
      "tensorboard                   2.13.0\n",
      "tensorboard-data-server       0.7.1\n",
      "tensorflow                    2.13.0\n",
      "tensorflow-estimator          2.13.0\n",
      "tensorflow-intel              2.13.0\n",
      "tensorflow-io-gcs-filesystem  0.31.0\n",
      "termcolor                     2.3.0\n",
      "terminado                     0.17.1\n",
      "text-unidecode                1.3\n",
      "textdistance                  4.2.1\n",
      "threadpoolctl                 2.2.0\n",
      "three-merge                   0.1.1\n",
      "tifffile                      2021.7.2\n",
      "tinycss2                      1.2.1\n",
      "tldextract                    3.2.0\n",
      "toml                          0.10.2\n",
      "tomli                         2.0.1\n",
      "tomlkit                       0.11.1\n",
      "toolz                         0.12.0\n",
      "torch                         2.1.0+cu118\n",
      "torchaudio                    2.1.0+cu118\n",
      "torchvision                   0.16.0+cu118\n",
      "tornado                       6.2\n",
      "tqdm                          4.65.0\n",
      "traitlets                     5.7.1\n",
      "transformers                  2.1.1\n",
      "Twisted                       22.10.0\n",
      "twisted-iocpsupport           1.0.2\n",
      "typing_extensions             4.5.0\n",
      "uc-micro-py                   1.0.1\n",
      "ujson                         5.4.0\n",
      "Unidecode                     1.2.0\n",
      "urllib3                       1.26.16\n",
      "w3lib                         1.21.0\n",
      "watchdog                      2.1.6\n",
      "wcwidth                       0.2.5\n",
      "webencodings                  0.5.1\n",
      "websocket-client              0.58.0\n",
      "Werkzeug                      2.2.3\n",
      "whatthepatch                  1.0.2\n",
      "wheel                         0.38.4\n",
      "widgetsnbextension            4.0.5\n",
      "win-inet-pton                 1.1.0\n",
      "wrapt                         1.14.1\n",
      "xarray                        2022.11.0\n",
      "xlwings                       0.29.1\n",
      "xyzservices                   2022.9.0\n",
      "y-py                          0.5.9\n",
      "yapf                          0.31.0\n",
      "yarl                          1.8.1\n",
      "ypy-websocket                 0.8.2\n",
      "zict                          2.2.0\n",
      "zipp                          3.11.0\n",
      "zope.interface                5.4.0\n",
      "zstandard                     0.19.0\n"
     ]
    }
   ],
   "source": [
    "!pip list"
   ]
  },
  {
   "cell_type": "code",
   "execution_count": 4,
   "id": "008128c5",
   "metadata": {},
   "outputs": [
    {
     "name": "stdout",
     "output_type": "stream",
     "text": [
      "Collecting stable-baselines3[extra]\n",
      "  Downloading stable_baselines3-2.1.0-py3-none-any.whl (178 kB)\n",
      "                                              0.0/178.7 kB ? eta -:--:--\n",
      "     --------                              41.0/178.7 kB 991.0 kB/s eta 0:00:01\n",
      "     ------------------------------         143.4/178.7 kB 1.4 MB/s eta 0:00:01\n",
      "     -------------------------------------- 178.7/178.7 kB 1.3 MB/s eta 0:00:00\n",
      "Collecting gymnasium<0.30,>=0.28.1 (from stable-baselines3[extra])\n",
      "  Downloading gymnasium-0.29.1-py3-none-any.whl (953 kB)\n",
      "                                              0.0/953.9 kB ? eta -:--:--\n",
      "                                              0.0/953.9 kB ? eta -:--:--\n",
      "                                              20.5/953.9 kB ? eta -:--:--\n",
      "     --                                      61.4/953.9 kB 3.2 MB/s eta 0:00:01\n",
      "     -------                                194.6/953.9 kB 2.0 MB/s eta 0:00:01\n",
      "     ---------                              235.5/953.9 kB 1.8 MB/s eta 0:00:01\n",
      "     ----------                             256.0/953.9 kB 1.7 MB/s eta 0:00:01\n",
      "     --------------                         358.4/953.9 kB 1.7 MB/s eta 0:00:01\n",
      "     ---------------                        399.4/953.9 kB 1.7 MB/s eta 0:00:01\n",
      "     -----------------                      450.6/953.9 kB 1.6 MB/s eta 0:00:01\n",
      "     -------------------                    491.5/953.9 kB 1.5 MB/s eta 0:00:01\n",
      "     ----------------------                 573.4/953.9 kB 1.6 MB/s eta 0:00:01\n",
      "     ------------------------               624.6/953.9 kB 1.5 MB/s eta 0:00:01\n",
      "     -------------------------              645.1/953.9 kB 1.4 MB/s eta 0:00:01\n",
      "     ----------------------------           716.8/953.9 kB 1.5 MB/s eta 0:00:01\n",
      "     --------------------------------       819.2/953.9 kB 1.5 MB/s eta 0:00:01\n",
      "     ---------------------------------      849.9/953.9 kB 1.4 MB/s eta 0:00:01\n",
      "     ------------------------------------   911.4/953.9 kB 1.4 MB/s eta 0:00:01\n",
      "     -------------------------------------  952.3/953.9 kB 1.4 MB/s eta 0:00:01\n",
      "     -------------------------------------- 953.9/953.9 kB 1.3 MB/s eta 0:00:00\n",
      "Requirement already satisfied: numpy>=1.20 in c:\\users\\hrida\\anaconda3\\lib\\site-packages (from stable-baselines3[extra]) (1.24.3)\n",
      "Requirement already satisfied: torch>=1.13 in c:\\users\\hrida\\anaconda3\\lib\\site-packages (from stable-baselines3[extra]) (2.1.0+cu118)\n",
      "Requirement already satisfied: cloudpickle in c:\\users\\hrida\\anaconda3\\lib\\site-packages (from stable-baselines3[extra]) (2.2.1)\n",
      "Requirement already satisfied: pandas in c:\\users\\hrida\\anaconda3\\lib\\site-packages (from stable-baselines3[extra]) (1.5.3)\n",
      "Requirement already satisfied: matplotlib in c:\\users\\hrida\\anaconda3\\lib\\site-packages (from stable-baselines3[extra]) (3.7.1)\n",
      "Requirement already satisfied: opencv-python in c:\\users\\hrida\\anaconda3\\lib\\site-packages (from stable-baselines3[extra]) (4.8.0.76)\n",
      "Requirement already satisfied: pygame in c:\\users\\hrida\\appdata\\roaming\\python\\python311\\site-packages (from stable-baselines3[extra]) (2.5.2)\n",
      "Requirement already satisfied: tensorboard>=2.9.1 in c:\\users\\hrida\\anaconda3\\lib\\site-packages (from stable-baselines3[extra]) (2.13.0)\n",
      "Requirement already satisfied: psutil in c:\\users\\hrida\\anaconda3\\lib\\site-packages (from stable-baselines3[extra]) (5.9.0)\n",
      "Requirement already satisfied: tqdm in c:\\users\\hrida\\anaconda3\\lib\\site-packages (from stable-baselines3[extra]) (4.65.0)\n",
      "Collecting rich (from stable-baselines3[extra])\n",
      "  Downloading rich-13.6.0-py3-none-any.whl (239 kB)\n",
      "                                              0.0/239.8 kB ? eta -:--:--\n",
      "     ----                                    30.7/239.8 kB 1.3 MB/s eta 0:00:01\n",
      "     ---------                               61.4/239.8 kB 1.1 MB/s eta 0:00:01\n",
      "     -----------------                      112.6/239.8 kB 1.1 MB/s eta 0:00:01\n",
      "     ---------------------------            174.1/239.8 kB 1.1 MB/s eta 0:00:01\n",
      "     --------------------------------       204.8/239.8 kB 1.0 MB/s eta 0:00:01\n",
      "     ------------------------------------ 239.8/239.8 kB 980.9 kB/s eta 0:00:00\n",
      "Collecting shimmy[atari]~=1.1.0 (from stable-baselines3[extra])\n",
      "  Downloading Shimmy-1.1.0-py3-none-any.whl (37 kB)\n",
      "Requirement already satisfied: pillow in c:\\users\\hrida\\anaconda3\\lib\\site-packages (from stable-baselines3[extra]) (9.4.0)\n",
      "Collecting autorom[accept-rom-license]~=0.6.1 (from stable-baselines3[extra])\n",
      "  Downloading AutoROM-0.6.1-py3-none-any.whl (9.4 kB)\n",
      "Requirement already satisfied: click in c:\\users\\hrida\\anaconda3\\lib\\site-packages (from autorom[accept-rom-license]~=0.6.1->stable-baselines3[extra]) (8.0.4)\n",
      "Requirement already satisfied: requests in c:\\users\\hrida\\anaconda3\\lib\\site-packages (from autorom[accept-rom-license]~=0.6.1->stable-baselines3[extra]) (2.29.0)\n",
      "Collecting AutoROM.accept-rom-license (from autorom[accept-rom-license]~=0.6.1->stable-baselines3[extra])\n",
      "  Downloading AutoROM.accept-rom-license-0.6.1.tar.gz (434 kB)\n",
      "                                              0.0/434.7 kB ? eta -:--:--\n",
      "     --                                      30.7/434.7 kB 1.4 MB/s eta 0:00:01\n",
      "     ------                                71.7/434.7 kB 991.0 kB/s eta 0:00:01\n",
      "     ---------                            112.6/434.7 kB 939.4 kB/s eta 0:00:01\n",
      "     ---------                            112.6/434.7 kB 939.4 kB/s eta 0:00:01\n",
      "     --------------                       174.1/434.7 kB 876.1 kB/s eta 0:00:01\n",
      "     ----------------                     204.8/434.7 kB 778.2 kB/s eta 0:00:01\n",
      "     ------------------                   225.3/434.7 kB 811.5 kB/s eta 0:00:01\n",
      "     ---------------------                256.0/434.7 kB 787.7 kB/s eta 0:00:01\n",
      "     -----------------------              286.7/434.7 kB 770.1 kB/s eta 0:00:01\n",
      "     --------------------------           317.4/434.7 kB 728.0 kB/s eta 0:00:01\n",
      "     -----------------------------        358.4/434.7 kB 742.3 kB/s eta 0:00:01\n",
      "     --------------------------------     389.1/434.7 kB 735.7 kB/s eta 0:00:01\n",
      "     -----------------------------------  430.1/434.7 kB 747.0 kB/s eta 0:00:01\n",
      "     -----------------------------------  430.1/434.7 kB 747.0 kB/s eta 0:00:01\n",
      "     ------------------------------------ 434.7/434.7 kB 679.1 kB/s eta 0:00:00\n",
      "  Installing build dependencies: started\n",
      "  Installing build dependencies: finished with status 'done'\n",
      "  Getting requirements to build wheel: started\n",
      "  Getting requirements to build wheel: finished with status 'done'\n",
      "  Preparing metadata (pyproject.toml): started\n",
      "  Preparing metadata (pyproject.toml): finished with status 'done'\n",
      "Requirement already satisfied: typing-extensions>=4.3.0 in c:\\users\\hrida\\anaconda3\\lib\\site-packages (from gymnasium<0.30,>=0.28.1->stable-baselines3[extra]) (4.5.0)\n",
      "Collecting farama-notifications>=0.0.1 (from gymnasium<0.30,>=0.28.1->stable-baselines3[extra])\n",
      "  Using cached Farama_Notifications-0.0.4-py3-none-any.whl (2.5 kB)\n",
      "Collecting ale-py~=0.8.1 (from shimmy[atari]~=1.1.0->stable-baselines3[extra])\n",
      "  Downloading ale_py-0.8.1-cp311-cp311-win_amd64.whl (952 kB)\n",
      "                                              0.0/952.4 kB ? eta -:--:--\n",
      "                                              0.0/952.4 kB ? eta -:--:--\n",
      "     -                                       41.0/952.4 kB 2.0 MB/s eta 0:00:01\n",
      "     --                                      61.4/952.4 kB 1.1 MB/s eta 0:00:01\n",
      "     --                                      61.4/952.4 kB 1.1 MB/s eta 0:00:01\n",
      "     --                                    71.7/952.4 kB 491.5 kB/s eta 0:00:02\n",
      "     ----                                 112.6/952.4 kB 595.3 kB/s eta 0:00:02\n",
      "     ----                                 122.9/952.4 kB 514.3 kB/s eta 0:00:02\n",
      "     -----                                143.4/952.4 kB 568.9 kB/s eta 0:00:02\n",
      "     -----                                153.6/952.4 kB 459.5 kB/s eta 0:00:02\n",
      "     ------                               174.1/952.4 kB 476.3 kB/s eta 0:00:02\n",
      "     -------                              194.6/952.4 kB 491.5 kB/s eta 0:00:02\n",
      "     -------                              194.6/952.4 kB 491.5 kB/s eta 0:00:02\n",
      "     -------                              204.8/952.4 kB 429.5 kB/s eta 0:00:02\n",
      "     --------                             225.3/952.4 kB 417.6 kB/s eta 0:00:02\n",
      "     --------                             225.3/952.4 kB 417.6 kB/s eta 0:00:02\n",
      "     --------                             235.5/952.4 kB 379.3 kB/s eta 0:00:02\n",
      "     --------                             235.5/952.4 kB 379.3 kB/s eta 0:00:02\n",
      "     ---------                            256.0/952.4 kB 357.7 kB/s eta 0:00:02\n",
      "     ----------                           276.5/952.4 kB 355.0 kB/s eta 0:00:02\n",
      "     ----------                           286.7/952.4 kB 340.5 kB/s eta 0:00:02\n",
      "     ----------                           286.7/952.4 kB 340.5 kB/s eta 0:00:02\n",
      "     -----------                          307.2/952.4 kB 333.7 kB/s eta 0:00:02\n",
      "     -----------                          317.4/952.4 kB 327.9 kB/s eta 0:00:02\n",
      "     ------------                         337.9/952.4 kB 333.0 kB/s eta 0:00:02\n",
      "     -------------                        358.4/952.4 kB 327.8 kB/s eta 0:00:02\n",
      "     -------------                        368.6/952.4 kB 323.2 kB/s eta 0:00:02\n",
      "     -------------                        368.6/952.4 kB 323.2 kB/s eta 0:00:02\n",
      "     ---------------                      399.4/952.4 kB 327.8 kB/s eta 0:00:02\n",
      "     ---------------                      419.8/952.4 kB 327.7 kB/s eta 0:00:02\n",
      "     ----------------                     440.3/952.4 kB 331.6 kB/s eta 0:00:02\n",
      "     ----------------                     440.3/952.4 kB 331.6 kB/s eta 0:00:02\n",
      "     -----------------                    450.6/952.4 kB 320.2 kB/s eta 0:00:02\n",
      "     -----------------                    471.0/952.4 kB 324.1 kB/s eta 0:00:02\n",
      "     -----------------                    471.0/952.4 kB 324.1 kB/s eta 0:00:02\n",
      "     ------------------                   481.3/952.4 kB 314.0 kB/s eta 0:00:02\n",
      "     ------------------                   501.8/952.4 kB 317.7 kB/s eta 0:00:02\n",
      "     -------------------                  522.2/952.4 kB 321.2 kB/s eta 0:00:02\n",
      "     --------------------                 532.5/952.4 kB 318.4 kB/s eta 0:00:02\n",
      "     --------------------                 532.5/952.4 kB 318.4 kB/s eta 0:00:02\n",
      "     --------------------                 553.0/952.4 kB 318.7 kB/s eta 0:00:02\n",
      "     ---------------------                563.2/952.4 kB 316.0 kB/s eta 0:00:02\n",
      "     ----------------------               604.2/952.4 kB 324.9 kB/s eta 0:00:02\n",
      "     -----------------------              614.4/952.4 kB 325.0 kB/s eta 0:00:02\n",
      "     -----------------------              634.9/952.4 kB 325.0 kB/s eta 0:00:01\n",
      "     ------------------------             655.4/952.4 kB 333.1 kB/s eta 0:00:01\n",
      "     -------------------------            665.6/952.4 kB 330.3 kB/s eta 0:00:01\n",
      "     -------------------------            686.1/952.4 kB 330.2 kB/s eta 0:00:01\n",
      "     -------------------------            686.1/952.4 kB 330.2 kB/s eta 0:00:01\n",
      "     ---------------------------          716.8/952.4 kB 330.2 kB/s eta 0:00:01\n",
      "     ---------------------------          737.3/952.4 kB 334.7 kB/s eta 0:00:01\n",
      "     ---------------------------          737.3/952.4 kB 334.7 kB/s eta 0:00:01\n",
      "     ----------------------------         747.5/952.4 kB 330.0 kB/s eta 0:00:01\n",
      "     -----------------------------        768.0/952.4 kB 334.6 kB/s eta 0:00:01\n",
      "     -----------------------------        788.5/952.4 kB 336.6 kB/s eta 0:00:01\n",
      "     -----------------------------        788.5/952.4 kB 336.6 kB/s eta 0:00:01\n",
      "     ------------------------------       798.7/952.4 kB 323.5 kB/s eta 0:00:01\n",
      "     ------------------------------       798.7/952.4 kB 323.5 kB/s eta 0:00:01\n",
      "     ------------------------------       798.7/952.4 kB 323.5 kB/s eta 0:00:01\n",
      "     ------------------------------       819.2/952.4 kB 321.7 kB/s eta 0:00:01\n",
      "     ------------------------------       819.2/952.4 kB 321.7 kB/s eta 0:00:01\n",
      "     -------------------------------      829.4/952.4 kB 310.3 kB/s eta 0:00:01\n",
      "     -------------------------------      829.4/952.4 kB 310.3 kB/s eta 0:00:01\n",
      "     --------------------------------     849.9/952.4 kB 308.8 kB/s eta 0:00:01\n",
      "     --------------------------------     849.9/952.4 kB 308.8 kB/s eta 0:00:01\n",
      "     --------------------------------     870.4/952.4 kB 309.3 kB/s eta 0:00:01\n",
      "     ---------------------------------    880.6/952.4 kB 304.4 kB/s eta 0:00:01\n",
      "     ----------------------------------   901.1/952.4 kB 306.6 kB/s eta 0:00:01\n",
      "     ----------------------------------   911.4/952.4 kB 308.4 kB/s eta 0:00:01\n",
      "     ----------------------------------   921.6/952.4 kB 307.0 kB/s eta 0:00:01\n",
      "     -----------------------------------  942.1/952.4 kB 307.4 kB/s eta 0:00:01\n",
      "     -----------------------------------  952.3/952.4 kB 309.2 kB/s eta 0:00:01\n",
      "     ------------------------------------ 952.4/952.4 kB 304.5 kB/s eta 0:00:00\n",
      "Requirement already satisfied: absl-py>=0.4 in c:\\users\\hrida\\anaconda3\\lib\\site-packages (from tensorboard>=2.9.1->stable-baselines3[extra]) (1.4.0)\n",
      "Requirement already satisfied: grpcio>=1.48.2 in c:\\users\\hrida\\anaconda3\\lib\\site-packages (from tensorboard>=2.9.1->stable-baselines3[extra]) (1.58.0)\n",
      "Requirement already satisfied: google-auth<3,>=1.6.3 in c:\\users\\hrida\\anaconda3\\lib\\site-packages (from tensorboard>=2.9.1->stable-baselines3[extra]) (2.22.0)\n",
      "Requirement already satisfied: google-auth-oauthlib<1.1,>=0.5 in c:\\users\\hrida\\anaconda3\\lib\\site-packages (from tensorboard>=2.9.1->stable-baselines3[extra]) (1.0.0)\n",
      "Requirement already satisfied: markdown>=2.6.8 in c:\\users\\hrida\\anaconda3\\lib\\site-packages (from tensorboard>=2.9.1->stable-baselines3[extra]) (3.4.1)\n",
      "Requirement already satisfied: protobuf>=3.19.6 in c:\\users\\hrida\\anaconda3\\lib\\site-packages (from tensorboard>=2.9.1->stable-baselines3[extra]) (3.20.3)\n",
      "Requirement already satisfied: setuptools>=41.0.0 in c:\\users\\hrida\\anaconda3\\lib\\site-packages (from tensorboard>=2.9.1->stable-baselines3[extra]) (67.8.0)\n",
      "Requirement already satisfied: tensorboard-data-server<0.8.0,>=0.7.0 in c:\\users\\hrida\\anaconda3\\lib\\site-packages (from tensorboard>=2.9.1->stable-baselines3[extra]) (0.7.1)\n",
      "Requirement already satisfied: werkzeug>=1.0.1 in c:\\users\\hrida\\anaconda3\\lib\\site-packages (from tensorboard>=2.9.1->stable-baselines3[extra]) (2.2.3)\n",
      "Requirement already satisfied: wheel>=0.26 in c:\\users\\hrida\\anaconda3\\lib\\site-packages (from tensorboard>=2.9.1->stable-baselines3[extra]) (0.38.4)\n",
      "Requirement already satisfied: filelock in c:\\users\\hrida\\anaconda3\\lib\\site-packages (from torch>=1.13->stable-baselines3[extra]) (3.9.0)\n",
      "Requirement already satisfied: sympy in c:\\users\\hrida\\anaconda3\\lib\\site-packages (from torch>=1.13->stable-baselines3[extra]) (1.11.1)\n",
      "Requirement already satisfied: networkx in c:\\users\\hrida\\anaconda3\\lib\\site-packages (from torch>=1.13->stable-baselines3[extra]) (2.8.4)\n",
      "Requirement already satisfied: jinja2 in c:\\users\\hrida\\anaconda3\\lib\\site-packages (from torch>=1.13->stable-baselines3[extra]) (3.1.2)\n",
      "Requirement already satisfied: fsspec in c:\\users\\hrida\\anaconda3\\lib\\site-packages (from torch>=1.13->stable-baselines3[extra]) (2023.3.0)\n",
      "Requirement already satisfied: contourpy>=1.0.1 in c:\\users\\hrida\\anaconda3\\lib\\site-packages (from matplotlib->stable-baselines3[extra]) (1.0.5)\n",
      "Requirement already satisfied: cycler>=0.10 in c:\\users\\hrida\\anaconda3\\lib\\site-packages (from matplotlib->stable-baselines3[extra]) (0.11.0)\n",
      "Requirement already satisfied: fonttools>=4.22.0 in c:\\users\\hrida\\anaconda3\\lib\\site-packages (from matplotlib->stable-baselines3[extra]) (4.25.0)\n",
      "Requirement already satisfied: kiwisolver>=1.0.1 in c:\\users\\hrida\\anaconda3\\lib\\site-packages (from matplotlib->stable-baselines3[extra]) (1.4.4)\n",
      "Requirement already satisfied: packaging>=20.0 in c:\\users\\hrida\\anaconda3\\lib\\site-packages (from matplotlib->stable-baselines3[extra]) (23.0)\n",
      "Requirement already satisfied: pyparsing>=2.3.1 in c:\\users\\hrida\\anaconda3\\lib\\site-packages (from matplotlib->stable-baselines3[extra]) (3.0.9)\n",
      "Requirement already satisfied: python-dateutil>=2.7 in c:\\users\\hrida\\anaconda3\\lib\\site-packages (from matplotlib->stable-baselines3[extra]) (2.8.2)\n",
      "Requirement already satisfied: pytz>=2020.1 in c:\\users\\hrida\\anaconda3\\lib\\site-packages (from pandas->stable-baselines3[extra]) (2022.7)\n",
      "Requirement already satisfied: markdown-it-py>=2.2.0 in c:\\users\\hrida\\anaconda3\\lib\\site-packages (from rich->stable-baselines3[extra]) (2.2.0)\n",
      "Requirement already satisfied: pygments<3.0.0,>=2.13.0 in c:\\users\\hrida\\anaconda3\\lib\\site-packages (from rich->stable-baselines3[extra]) (2.15.1)\n",
      "Requirement already satisfied: colorama in c:\\users\\hrida\\anaconda3\\lib\\site-packages (from tqdm->stable-baselines3[extra]) (0.4.6)\n",
      "Collecting importlib-resources (from ale-py~=0.8.1->shimmy[atari]~=1.1.0->stable-baselines3[extra])\n",
      "  Downloading importlib_resources-6.1.1-py3-none-any.whl (33 kB)\n",
      "Requirement already satisfied: cachetools<6.0,>=2.0.0 in c:\\users\\hrida\\anaconda3\\lib\\site-packages (from google-auth<3,>=1.6.3->tensorboard>=2.9.1->stable-baselines3[extra]) (5.3.1)\n",
      "Requirement already satisfied: pyasn1-modules>=0.2.1 in c:\\users\\hrida\\anaconda3\\lib\\site-packages (from google-auth<3,>=1.6.3->tensorboard>=2.9.1->stable-baselines3[extra]) (0.2.8)\n",
      "Requirement already satisfied: rsa<5,>=3.1.4 in c:\\users\\hrida\\anaconda3\\lib\\site-packages (from google-auth<3,>=1.6.3->tensorboard>=2.9.1->stable-baselines3[extra]) (4.9)\n",
      "Requirement already satisfied: six>=1.9.0 in c:\\users\\hrida\\anaconda3\\lib\\site-packages (from google-auth<3,>=1.6.3->tensorboard>=2.9.1->stable-baselines3[extra]) (1.16.0)\n",
      "Requirement already satisfied: urllib3<2.0 in c:\\users\\hrida\\anaconda3\\lib\\site-packages (from google-auth<3,>=1.6.3->tensorboard>=2.9.1->stable-baselines3[extra]) (1.26.16)\n",
      "Requirement already satisfied: requests-oauthlib>=0.7.0 in c:\\users\\hrida\\anaconda3\\lib\\site-packages (from google-auth-oauthlib<1.1,>=0.5->tensorboard>=2.9.1->stable-baselines3[extra]) (1.3.1)\n",
      "Requirement already satisfied: mdurl~=0.1 in c:\\users\\hrida\\anaconda3\\lib\\site-packages (from markdown-it-py>=2.2.0->rich->stable-baselines3[extra]) (0.1.0)\n",
      "Requirement already satisfied: charset-normalizer<4,>=2 in c:\\users\\hrida\\anaconda3\\lib\\site-packages (from requests->autorom[accept-rom-license]~=0.6.1->stable-baselines3[extra]) (2.0.4)\n",
      "Requirement already satisfied: idna<4,>=2.5 in c:\\users\\hrida\\anaconda3\\lib\\site-packages (from requests->autorom[accept-rom-license]~=0.6.1->stable-baselines3[extra]) (3.4)\n",
      "Requirement already satisfied: certifi>=2017.4.17 in c:\\users\\hrida\\anaconda3\\lib\\site-packages (from requests->autorom[accept-rom-license]~=0.6.1->stable-baselines3[extra]) (2023.7.22)\n",
      "Requirement already satisfied: MarkupSafe>=2.1.1 in c:\\users\\hrida\\anaconda3\\lib\\site-packages (from werkzeug>=1.0.1->tensorboard>=2.9.1->stable-baselines3[extra]) (2.1.1)\n",
      "Requirement already satisfied: mpmath>=0.19 in c:\\users\\hrida\\anaconda3\\lib\\site-packages (from sympy->torch>=1.13->stable-baselines3[extra]) (1.2.1)\n",
      "Requirement already satisfied: pyasn1<0.5.0,>=0.4.6 in c:\\users\\hrida\\anaconda3\\lib\\site-packages (from pyasn1-modules>=0.2.1->google-auth<3,>=1.6.3->tensorboard>=2.9.1->stable-baselines3[extra]) (0.4.8)\n",
      "Requirement already satisfied: oauthlib>=3.0.0 in c:\\users\\hrida\\anaconda3\\lib\\site-packages (from requests-oauthlib>=0.7.0->google-auth-oauthlib<1.1,>=0.5->tensorboard>=2.9.1->stable-baselines3[extra]) (3.2.2)\n",
      "Building wheels for collected packages: AutoROM.accept-rom-license\n",
      "  Building wheel for AutoROM.accept-rom-license (pyproject.toml): started\n",
      "  Building wheel for AutoROM.accept-rom-license (pyproject.toml): finished with status 'done'\n",
      "  Created wheel for AutoROM.accept-rom-license: filename=AutoROM.accept_rom_license-0.6.1-py3-none-any.whl size=446680 sha256=116f7afcdf074112d941b59032e4ee7d5508487df668632f597aaead1b33cd90\n",
      "  Stored in directory: c:\\users\\hrida\\appdata\\local\\pip\\cache\\wheels\\bc\\fc\\c6\\8aa657c0d2089982f2dabd110efc68c61eb49831fdb7397351\n",
      "Successfully built AutoROM.accept-rom-license\n",
      "Installing collected packages: farama-notifications, importlib-resources, gymnasium, shimmy, rich, AutoROM.accept-rom-license, autorom, ale-py, stable-baselines3\n",
      "Successfully installed AutoROM.accept-rom-license-0.6.1 ale-py-0.8.1 autorom-0.6.1 farama-notifications-0.0.4 gymnasium-0.29.1 importlib-resources-6.1.1 rich-13.6.0 shimmy-1.1.0 stable-baselines3-2.1.0\n",
      "Note: you may need to restart the kernel to use updated packages.\n"
     ]
    }
   ],
   "source": [
    "pip install stable-baselines3[extra] "
   ]
  },
  {
   "cell_type": "code",
   "execution_count": 2,
   "id": "366dd77a",
   "metadata": {},
   "outputs": [
    {
     "name": "stdout",
     "output_type": "stream",
     "text": [
      "Collecting mss\n",
      "  Using cached mss-9.0.1-py3-none-any.whl (22 kB)\n",
      "Collecting pydirectinput\n",
      "  Using cached PyDirectInput-1.0.4-py3-none-any.whl (8.9 kB)\n",
      "Collecting pytesseract\n",
      "  Downloading pytesseract-0.3.10-py3-none-any.whl (14 kB)\n",
      "Requirement already satisfied: packaging>=21.3 in c:\\users\\hrida\\anaconda3\\lib\\site-packages (from pytesseract) (23.0)\n",
      "Requirement already satisfied: Pillow>=8.0.0 in c:\\users\\hrida\\anaconda3\\lib\\site-packages (from pytesseract) (9.4.0)\n",
      "Installing collected packages: pytesseract, pydirectinput, mss\n",
      "Successfully installed mss-9.0.1 pydirectinput-1.0.4 pytesseract-0.3.10\n",
      "Note: you may need to restart the kernel to use updated packages.\n"
     ]
    }
   ],
   "source": [
    "pip install mss pydirectinput pytesseract"
   ]
  },
  {
   "cell_type": "code",
   "execution_count": 50,
   "id": "edaae2a3",
   "metadata": {},
   "outputs": [
    {
     "name": "stdout",
     "output_type": "stream",
     "text": [
      "Requirement already satisfied: gym in c:\\users\\hrida\\anaconda3\\lib\\site-packages (0.26.2)\n",
      "Requirement already satisfied: numpy>=1.18.0 in c:\\users\\hrida\\anaconda3\\lib\\site-packages (from gym) (1.24.3)\n",
      "Requirement already satisfied: cloudpickle>=1.2.0 in c:\\users\\hrida\\anaconda3\\lib\\site-packages (from gym) (2.2.1)\n",
      "Requirement already satisfied: gym-notices>=0.0.4 in c:\\users\\hrida\\anaconda3\\lib\\site-packages (from gym) (0.0.8)\n",
      "Note: you may need to restart the kernel to use updated packages.\n"
     ]
    }
   ],
   "source": [
    "pip install gymnasium"
   ]
  },
  {
   "cell_type": "code",
   "execution_count": 102,
   "id": "95cad7cf",
   "metadata": {},
   "outputs": [],
   "source": [
    "import gymnasium as gym"
   ]
  },
  {
   "cell_type": "code",
   "execution_count": 103,
   "id": "79596856",
   "metadata": {},
   "outputs": [],
   "source": [
    "from mss import mss   #mss used for screen capture\n",
    "import pydirectinput  #used for sending commands like WASD\n",
    "import cv2\n",
    "import numpy as np\n",
    "import pytesseract     #ocr for game over extraction\n",
    "from matplotlib import pyplot as plt\n",
    "import time\n",
    "from gym import Env    #Environment components\n",
    "from gymnasium.spaces import Box, Discrete"
   ]
  },
  {
   "cell_type": "code",
   "execution_count": 104,
   "id": "951f46a1",
   "metadata": {},
   "outputs": [],
   "source": [
    "pytesseract.pytesseract.tesseract_cmd = \"C:\\\\Program Files\\\\Tesseract-OCR\\\\tesseract.exe\""
   ]
  },
  {
   "cell_type": "markdown",
   "id": "e757c83d",
   "metadata": {},
   "source": [
    "## Build the environment"
   ]
  },
  {
   "cell_type": "markdown",
   "id": "50a338e7",
   "metadata": {},
   "source": [
    "### 2.1 Create environment"
   ]
  },
  {
   "cell_type": "code",
   "execution_count": 126,
   "id": "c44d0f24",
   "metadata": {},
   "outputs": [],
   "source": [
    "# new gym environment\n",
    "class WebGame(gym.Env):\n",
    "    def __init__(self):\n",
    "        super().__init__()\n",
    "        # Setup spaces\n",
    "        self.observation_space = Box(low=0, high=255, shape=(1,83,100), dtype=np.uint8)\n",
    "        self.action_space = Discrete(3)\n",
    "        # Capture game frames\n",
    "        self.cap = mss()\n",
    "        self.game_location = {'top': 300, 'left': 0, 'width': 600, 'height': 500}\n",
    "        self.done_location = {'top': 385, 'left': 630, 'width': 700, 'height': 80}\n",
    "        \n",
    "        \n",
    "    def step(self, action):\n",
    "        action_map = {\n",
    "            0:'space',\n",
    "            1: 'down', \n",
    "            2: 'no_op'\n",
    "        }\n",
    "        if action !=2:\n",
    "            pydirectinput.press(action_map[action])\n",
    "\n",
    "        #checking if game is done\n",
    "        res, done, done_cap = self.get_done() \n",
    "        \n",
    "        # getting the next observation\n",
    "        observation = self.get_observation()\n",
    "        \n",
    "        #reward = we get a point for every frame we're alive\n",
    "        reward = 1 \n",
    "        info = {}\n",
    "        return observation, reward, done, done, info\n",
    "    \n",
    "    def reset(self, seed=None):\n",
    "        time.sleep(1)\n",
    "        pydirectinput.click(x=150, y=150)\n",
    "        pydirectinput.press('space')\n",
    "        observation = self.get_observation()\n",
    "        info = {}\n",
    "        return observation, info\n",
    "    \n",
    "    \n",
    "    # visualize the game    \n",
    "    def render(self):\n",
    "        cv2.imshow('Game', np.array(self.cap.grab(self.game_location))[:,:,:3])\n",
    "        if cv2.waitKey(1) & 0xFF == ord('q'):\n",
    "            self.close()\n",
    "         \n",
    "    def close(self):\n",
    "        cv2.destroyAllWindows()\n",
    "    \n",
    "    def get_observation(self):\n",
    "        # get screen capture pf the game\n",
    "        raw = np.array(self.cap.grab(self.game_location))[:,:,:3].astype(np.uint8)\n",
    "        #grayscale\n",
    "        gray = cv2.cvtColor(raw, cv2.COLOR_BGR2GRAY)\n",
    "        #resize\n",
    "        resized = cv2.resize(gray, (100,83))\n",
    "        #add channels first\n",
    "        channel = np.reshape(resized, (1,83,100))\n",
    "        return channel\n",
    "    \n",
    "    # get the done text for ocr\n",
    "    def get_done(self):\n",
    "        done_cap = np.array(self.cap.grab(self.done_location))\n",
    "        done_strings = ['GAME', 'GAHE']\n",
    "        # if np.sum(done_cap) < 44300000:\n",
    "        #     done = True\n",
    "        \n",
    "        #apply ocr\n",
    "        done = False\n",
    "        res = pytesseract.image_to_string(done_cap)[:4]\n",
    "        if res in done_strings:\n",
    "            done = True\n",
    "        return res, done, done_cap"
   ]
  },
  {
   "cell_type": "code",
   "execution_count": 114,
   "id": "035aef6a",
   "metadata": {},
   "outputs": [],
   "source": [
    "# THIS WAS IN GYM CODE ABOVE TRANSFERRED TO GYMNASIUM\n",
    "# DONT RUN\n",
    "class WebGame(Env):\n",
    "    def __init__(self):\n",
    "        super().__init__()\n",
    "        # Setup spaces\n",
    "        self.observation_space = Box(low=0, high=255, shape=(1,83,100), dtype=np.uint8)\n",
    "        self.action_space = Discrete(3)\n",
    "        # Capture game frames\n",
    "        self.cap = mss()\n",
    "        self.game_location = {'top': 300, 'left': 0, 'width': 600, 'height': 500}\n",
    "        self.done_location = {'top': 385, 'left': 630, 'width': 700, 'height': 80}\n",
    "        \n",
    "        \n",
    "    def step(self, action):\n",
    "        action_map = {\n",
    "            0:'space',\n",
    "            1: 'down', \n",
    "            2: 'no_op'\n",
    "        }\n",
    "        if action !=2:\n",
    "            pydirectinput.press(action_map[action])\n",
    "\n",
    "        #checking if game is done\n",
    "        res, done, done_cap = self.get_done() \n",
    "        \n",
    "        # getting the next observation\n",
    "        observation = self.get_observation()\n",
    "        \n",
    "        #reward = we get a point for every frame we're alive\n",
    "        reward = 1 \n",
    "        info = {}\n",
    "        return observation, reward, done, info\n",
    "    \n",
    "    def reset(self):\n",
    "        time.sleep(1)\n",
    "        pydirectinput.click(x=150, y=150)\n",
    "        pydirectinput.press('space')\n",
    "        return self.get_observation()\n",
    "    \n",
    "    \n",
    "    # visualize the game    \n",
    "    def render(self):\n",
    "        cv2.imshow('Game', np.array(self.cap.grab(self.game_location))[:,:,:3])\n",
    "        if cv2.waitKey(1) & 0xFF == ord('q'):\n",
    "            self.close()\n",
    "         \n",
    "    def close(self):\n",
    "        cv2.destroyAllWindows()\n",
    "    \n",
    "    def get_observation(self):\n",
    "        # get screen capture pf the game\n",
    "        raw = np.array(self.cap.grab(self.game_location))[:,:,:3].astype(np.uint8)\n",
    "        #grayscale\n",
    "        gray = cv2.cvtColor(raw, cv2.COLOR_BGR2GRAY)\n",
    "        #resize\n",
    "        resized = cv2.resize(gray, (100,83))\n",
    "        #add channels first\n",
    "        channel = np.reshape(resized, (1,83,100))\n",
    "        return channel\n",
    "    \n",
    "    # get the done text for ocr\n",
    "    def get_done(self):\n",
    "        done_cap = np.array(self.cap.grab(self.done_location))\n",
    "        done_strings = ['GAME', 'GAHE']\n",
    "        # if np.sum(done_cap) < 44300000:\n",
    "        #     done = True\n",
    "        \n",
    "        #apply ocr\n",
    "        done = False\n",
    "        res = pytesseract.image_to_string(done_cap)[:4]\n",
    "        if res in done_strings:\n",
    "            done = True\n",
    "        return res, done, done_cap"
   ]
  },
  {
   "cell_type": "code",
   "execution_count": 125,
   "id": "9d994bfd",
   "metadata": {},
   "outputs": [],
   "source": [
    "env = WebGame()"
   ]
  },
  {
   "cell_type": "code",
   "execution_count": 124,
   "id": "9b4300de",
   "metadata": {},
   "outputs": [
    {
     "data": {
      "text/plain": [
       "0"
      ]
     },
     "execution_count": 124,
     "metadata": {},
     "output_type": "execute_result"
    }
   ],
   "source": [
    "env.action_space.sample()  "
   ]
  },
  {
   "cell_type": "code",
   "execution_count": 16,
   "id": "2f94ffce",
   "metadata": {},
   "outputs": [
    {
     "data": {
      "text/plain": [
       "<matplotlib.image.AxesImage at 0x2af19468710>"
      ]
     },
     "execution_count": 16,
     "metadata": {},
     "output_type": "execute_result"
    },
    {
     "data": {
      "image/png": "[encoded data removed]",
      "text/plain": [
       "<Figure size 640x480 with 1 Axes>"
      ]
     },
     "metadata": {},
     "output_type": "display_data"
    }
   ],
   "source": [
    "plt.imshow(env.observation_space.sample()[0])"
   ]
  },
  {
   "cell_type": "code",
   "execution_count": 38,
   "id": "4e4ce2ac",
   "metadata": {},
   "outputs": [
    {
     "data": {
      "text/plain": [
       "<matplotlib.image.AxesImage at 0x2af1eb78710>"
      ]
     },
     "execution_count": 38,
     "metadata": {},
     "output_type": "execute_result"
    },
    {
     "data": {
      "image/png": "[encoded data removed]",
      "text/plain": [
       "<Figure size 640x480 with 1 Axes>"
      ]
     },
     "metadata": {},
     "output_type": "display_data"
    }
   ],
   "source": [
    "plt.imshow(cv2.cvtColor(env.get_observation()[0], cv2.COLOR_BGR2RGB))"
   ]
  },
  {
   "cell_type": "code",
   "execution_count": 107,
   "id": "861bd67e",
   "metadata": {},
   "outputs": [],
   "source": [
    "res, done, done_cap = env.get_done()"
   ]
  },
  {
   "cell_type": "code",
   "execution_count": 108,
   "id": "56c6e672",
   "metadata": {},
   "outputs": [
    {
     "data": {
      "text/plain": [
       "<matplotlib.image.AxesImage at 0x2af1e77a150>"
      ]
     },
     "execution_count": 108,
     "metadata": {},
     "output_type": "execute_result"
    },
    {
     "data": {
      "image/png": "[encoded data removed]",
      "text/plain": [
       "<Figure size 640x480 with 1 Axes>"
      ]
     },
     "metadata": {},
     "output_type": "display_data"
    }
   ],
   "source": [
    "plt.imshow(done_cap)"
   ]
  },
  {
   "cell_type": "code",
   "execution_count": 109,
   "id": "7a423d26",
   "metadata": {},
   "outputs": [
    {
     "data": {
      "text/plain": [
       "True"
      ]
     },
     "execution_count": 109,
     "metadata": {},
     "output_type": "execute_result"
    }
   ],
   "source": [
    "done"
   ]
  },
  {
   "cell_type": "code",
   "execution_count": 110,
   "id": "c2564c99",
   "metadata": {},
   "outputs": [
    {
     "data": {
      "text/plain": [
       "'GAME'"
      ]
     },
     "execution_count": 110,
     "metadata": {},
     "output_type": "execute_result"
    }
   ],
   "source": [
    "res"
   ]
  },
  {
   "cell_type": "code",
   "execution_count": 120,
   "id": "3a1e2d27",
   "metadata": {},
   "outputs": [],
   "source": [
    "env.render()"
   ]
  },
  {
   "cell_type": "code",
   "execution_count": 121,
   "id": "f13d19ef",
   "metadata": {},
   "outputs": [],
   "source": [
    "env.close()"
   ]
  },
  {
   "cell_type": "code",
   "execution_count": 129,
   "id": "696bb0c5",
   "metadata": {},
   "outputs": [
    {
     "data": {
      "text/plain": [
       "<matplotlib.image.AxesImage at 0x2af1e6efd10>"
      ]
     },
     "execution_count": 129,
     "metadata": {},
     "output_type": "execute_result"
    },
    {
     "data": {
      "image/png": "[encoded data removed]",
      "text/plain": [
       "<Figure size 640x480 with 1 Axes>"
      ]
     },
     "metadata": {},
     "output_type": "display_data"
    }
   ],
   "source": [
    "plt.imshow(env.reset()[0])"
   ]
  },
  {
   "cell_type": "markdown",
   "id": "2885f2dd",
   "metadata": {},
   "source": [
    "### Test Environment"
   ]
  },
  {
   "cell_type": "code",
   "execution_count": 39,
   "id": "53320d9f",
   "metadata": {},
   "outputs": [],
   "source": [
    "env = WebGame()"
   ]
  },
  {
   "cell_type": "code",
   "execution_count": 12,
   "id": "1540d4d6",
   "metadata": {},
   "outputs": [],
   "source": [
    "obs =  env.get_observation()"
   ]
  },
  {
   "cell_type": "code",
   "execution_count": 13,
   "id": "f78b3e2f",
   "metadata": {},
   "outputs": [
    {
     "data": {
      "text/plain": [
       "<matplotlib.image.AxesImage at 0x1a376f66310>"
      ]
     },
     "execution_count": 13,
     "metadata": {},
     "output_type": "execute_result"
    },
    {
     "data": {
      "image/png": "[encoded data removed]",
      "text/plain": [
       "<Figure size 640x480 with 1 Axes>"
      ]
     },
     "metadata": {},
     "output_type": "display_data"
    }
   ],
   "source": [
    "plt.imshow(obs[0])"
   ]
  },
  {
   "cell_type": "code",
   "execution_count": 40,
   "id": "b05959e1",
   "metadata": {},
   "outputs": [
    {
     "name": "stdout",
     "output_type": "stream",
     "text": [
      "True\n"
     ]
    }
   ],
   "source": [
    "res, done, done_cap = env.get_done()\n",
    "print(done)"
   ]
  },
  {
   "cell_type": "code",
   "execution_count": 41,
   "id": "77e40b04",
   "metadata": {},
   "outputs": [
    {
     "data": {
      "text/plain": [
       "<matplotlib.image.AxesImage at 0x1a30efe32d0>"
      ]
     },
     "execution_count": 41,
     "metadata": {},
     "output_type": "execute_result"
    },
    {
     "data": {
      "image/png": "[encoded data removed]",
      "text/plain": [
       "<Figure size 640x480 with 1 Axes>"
      ]
     },
     "metadata": {},
     "output_type": "display_data"
    }
   ],
   "source": [
    "plt.imshow(done_cap)"
   ]
  },
  {
   "cell_type": "code",
   "execution_count": 42,
   "id": "8ea1500c",
   "metadata": {},
   "outputs": [
    {
     "data": {
      "text/plain": [
       "'GAME'"
      ]
     },
     "execution_count": 42,
     "metadata": {},
     "output_type": "execute_result"
    }
   ],
   "source": [
    "pytesseract.image_to_string(done_cap)[:4]"
   ]
  },
  {
   "cell_type": "code",
   "execution_count": 181,
   "id": "e6d47569",
   "metadata": {},
   "outputs": [
    {
     "name": "stdout",
     "output_type": "stream",
     "text": [
      "Total Reward for episode 0 is 15\n",
      "Total Reward for episode 1 is 13\n",
      "Total Reward for episode 2 is 10\n",
      "Total Reward for episode 3 is 14\n",
      "Total Reward for episode 4 is 11\n",
      "Total Reward for episode 5 is 18\n",
      "Total Reward for episode 6 is 17\n",
      "Total Reward for episode 7 is 10\n",
      "Total Reward for episode 8 is 12\n",
      "Total Reward for episode 9 is 12\n"
     ]
    }
   ],
   "source": [
    "#play game 10 times\n",
    "for episode in range(10): \n",
    "    obs = env.reset()\n",
    "    done = False  \n",
    "    total_reward   = 0\n",
    "    while not done: \n",
    "        obs, reward, done, done, info =  env.step(env.action_space.sample())\n",
    "        total_reward  += reward\n",
    "    print('Total Reward for episode {} is {}'.format(episode, total_reward)) "
   ]
  },
  {
   "cell_type": "markdown",
   "id": "3e7085b5",
   "metadata": {},
   "source": [
    "## Train Model"
   ]
  },
  {
   "cell_type": "markdown",
   "id": "cb030967",
   "metadata": {},
   "source": [
    "### Create a call back"
   ]
  },
  {
   "cell_type": "code",
   "execution_count": 127,
   "id": "0f27a7d0",
   "metadata": {},
   "outputs": [],
   "source": [
    "# Import os for file path management\n",
    "import os \n",
    "# Import Base Callback for saving models\n",
    "from stable_baselines3.common.callbacks import BaseCallback\n",
    "# Check Environment    \n",
    "from stable_baselines3.common import env_checker\n"
   ]
  },
  {
   "cell_type": "code",
   "execution_count": 128,
   "id": "1fad3c92",
   "metadata": {},
   "outputs": [],
   "source": [
    "env = WebGame()"
   ]
  },
  {
   "cell_type": "code",
   "execution_count": 129,
   "id": "b710d28b",
   "metadata": {},
   "outputs": [],
   "source": [
    "env_checker.check_env(env)"
   ]
  },
  {
   "cell_type": "code",
   "execution_count": 137,
   "id": "027ecf14",
   "metadata": {},
   "outputs": [],
   "source": [
    "class TrainAndLoggingCallback(BaseCallback):\n",
    "\n",
    "    def __init__(self, check_freq, save_path, verbose=1):\n",
    "        super(TrainAndLoggingCallback, self).__init__(verbose)\n",
    "        self.check_freq = check_freq\n",
    "        self.save_path = save_path\n",
    "\n",
    "    def _init_callback(self):\n",
    "        if self.save_path is not None:\n",
    "            os.makedirs(self.save_path, exist_ok=True)\n",
    "\n",
    "    def _on_step(self):\n",
    "        if self.n_calls % self.check_freq == 0:\n",
    "            model_path = os.path.join(self.save_path, 'best_model_{}'.format(self.n_calls))\n",
    "            self.model.save(model_path)\n",
    "\n",
    "        return True"
   ]
  },
  {
   "cell_type": "code",
   "execution_count": 138,
   "id": "a7910b41",
   "metadata": {},
   "outputs": [],
   "source": [
    "CHECKPOINT_DIR = './train/'\n",
    "LOG_DIR = './logs/'"
   ]
  },
  {
   "cell_type": "code",
   "execution_count": 139,
   "id": "d2971c8d",
   "metadata": {},
   "outputs": [],
   "source": [
    "callback = TrainAndLoggingCallback(check_freq=300, save_path=CHECKPOINT_DIR)"
   ]
  },
  {
   "cell_type": "markdown",
   "id": "d29a7a95",
   "metadata": {},
   "source": [
    "### Build and train DQN\n"
   ]
  },
  {
   "cell_type": "code",
   "execution_count": 225,
   "id": "4560f364",
   "metadata": {},
   "outputs": [],
   "source": [
    "from stable_baselines3 import DQN\n",
    "from stable_baselines3.common.monitor import Monitor\n",
    "from stable_baselines3.common.vec_env import DummyVecEnv, VecFrameStack"
   ]
  },
  {
   "cell_type": "code",
   "execution_count": 226,
   "id": "2760b80c",
   "metadata": {},
   "outputs": [],
   "source": [
    "env = WebGame()"
   ]
  },
  {
   "cell_type": "code",
   "execution_count": 228,
   "id": "ba602535",
   "metadata": {},
   "outputs": [
    {
     "name": "stdout",
     "output_type": "stream",
     "text": [
      "Using cuda device\n",
      "Wrapping the env with a `Monitor` wrapper\n",
      "Wrapping the env in a DummyVecEnv.\n"
     ]
    }
   ],
   "source": [
    "#create dqn model\n",
    "model = DQN('CnnPolicy', env, tensorboard_log=LOG_DIR, verbose=1, buffer_size=300000, learning_starts=0)"
   ]
  },
  {
   "cell_type": "code",
   "execution_count": 254,
   "id": "f354e663",
   "metadata": {},
   "outputs": [],
   "source": [
    "# Define the path to the pre-trained model\n",
    "pretrained_model_path = os.path.join('train', 'best_model_88000')\n",
    "\n",
    "# Create a new DQN model with a smaller buffer size\n",
    "model = DQN.load(pretrained_model_path, buffer_size=1000)"
   ]
  },
  {
   "cell_type": "code",
   "execution_count": 229,
   "id": "9e38bc8e",
   "metadata": {
    "scrolled": false
   },
   "outputs": [
    {
     "name": "stdout",
     "output_type": "stream",
     "text": [
      "Logging to ./logs/DQN_2\n",
      "----------------------------------\n",
      "| rollout/            |          |\n",
      "|    ep_len_mean      | 11.2     |\n",
      "|    ep_rew_mean      | 11.2     |\n",
      "|    exploration_rate | 0.572    |\n",
      "| time/               |          |\n",
      "|    episodes         | 4        |\n",
      "|    fps              | 1        |\n",
      "|    time_elapsed     | 27       |\n",
      "|    total_timesteps  | 45       |\n",
      "| train/              |          |\n",
      "|    learning_rate    | 0.0001   |\n",
      "|    loss             | 0.372    |\n",
      "|    n_updates        | 11       |\n",
      "----------------------------------\n",
      "----------------------------------\n",
      "| rollout/            |          |\n",
      "|    ep_len_mean      | 10.6     |\n",
      "|    ep_rew_mean      | 10.6     |\n",
      "|    exploration_rate | 0.193    |\n",
      "| time/               |          |\n",
      "|    episodes         | 8        |\n",
      "|    fps              | 1        |\n",
      "|    time_elapsed     | 53       |\n",
      "|    total_timesteps  | 85       |\n",
      "| train/              |          |\n",
      "|    learning_rate    | 0.0001   |\n",
      "|    loss             | 0.0439   |\n",
      "|    n_updates        | 21       |\n",
      "----------------------------------\n",
      "----------------------------------\n",
      "| rollout/            |          |\n",
      "|    ep_len_mean      | 10       |\n",
      "|    ep_rew_mean      | 10       |\n",
      "|    exploration_rate | 0.05     |\n",
      "| time/               |          |\n",
      "|    episodes         | 12       |\n",
      "|    fps              | 1        |\n",
      "|    time_elapsed     | 79       |\n",
      "|    total_timesteps  | 120      |\n",
      "| train/              |          |\n",
      "|    learning_rate    | 0.0001   |\n",
      "|    loss             | 0.031    |\n",
      "|    n_updates        | 29       |\n",
      "----------------------------------\n",
      "----------------------------------\n",
      "| rollout/            |          |\n",
      "|    ep_len_mean      | 11.5     |\n",
      "|    ep_rew_mean      | 11.5     |\n",
      "|    exploration_rate | 0.05     |\n",
      "| time/               |          |\n",
      "|    episodes         | 16       |\n",
      "|    fps              | 1        |\n",
      "|    time_elapsed     | 103      |\n",
      "|    total_timesteps  | 184      |\n",
      "| train/              |          |\n",
      "|    learning_rate    | 0.0001   |\n",
      "|    loss             | 0.0075   |\n",
      "|    n_updates        | 45       |\n",
      "----------------------------------\n",
      "----------------------------------\n",
      "| rollout/            |          |\n",
      "|    ep_len_mean      | 11.8     |\n",
      "|    ep_rew_mean      | 11.8     |\n",
      "|    exploration_rate | 0.05     |\n",
      "| time/               |          |\n",
      "|    episodes         | 20       |\n",
      "|    fps              | 1        |\n",
      "|    time_elapsed     | 130      |\n",
      "|    total_timesteps  | 236      |\n",
      "| train/              |          |\n",
      "|    learning_rate    | 0.0001   |\n",
      "|    loss             | 0.00107  |\n",
      "|    n_updates        | 58       |\n",
      "----------------------------------\n",
      "----------------------------------\n",
      "| rollout/            |          |\n",
      "|    ep_len_mean      | 11.5     |\n",
      "|    ep_rew_mean      | 11.5     |\n",
      "|    exploration_rate | 0.05     |\n",
      "| time/               |          |\n",
      "|    episodes         | 24       |\n",
      "|    fps              | 1        |\n",
      "|    time_elapsed     | 156      |\n",
      "|    total_timesteps  | 275      |\n",
      "| train/              |          |\n",
      "|    learning_rate    | 0.0001   |\n",
      "|    loss             | 0.00132  |\n",
      "|    n_updates        | 68       |\n",
      "----------------------------------\n",
      "----------------------------------\n",
      "| rollout/            |          |\n",
      "|    ep_len_mean      | 11.1     |\n",
      "|    ep_rew_mean      | 11.1     |\n",
      "|    exploration_rate | 0.05     |\n",
      "| time/               |          |\n",
      "|    episodes         | 28       |\n",
      "|    fps              | 1        |\n",
      "|    time_elapsed     | 182      |\n",
      "|    total_timesteps  | 310      |\n",
      "| train/              |          |\n",
      "|    learning_rate    | 0.0001   |\n",
      "|    loss             | 5.76e-05 |\n",
      "|    n_updates        | 77       |\n",
      "----------------------------------\n",
      "----------------------------------\n",
      "| rollout/            |          |\n",
      "|    ep_len_mean      | 12.1     |\n",
      "|    ep_rew_mean      | 12.1     |\n",
      "|    exploration_rate | 0.05     |\n",
      "| time/               |          |\n",
      "|    episodes         | 32       |\n",
      "|    fps              | 1        |\n",
      "|    time_elapsed     | 207      |\n",
      "|    total_timesteps  | 388      |\n",
      "| train/              |          |\n",
      "|    learning_rate    | 0.0001   |\n",
      "|    loss             | 0.00031  |\n",
      "|    n_updates        | 96       |\n",
      "----------------------------------\n",
      "----------------------------------\n",
      "| rollout/            |          |\n",
      "|    ep_len_mean      | 12       |\n",
      "|    ep_rew_mean      | 12       |\n",
      "|    exploration_rate | 0.05     |\n",
      "| time/               |          |\n",
      "|    episodes         | 36       |\n",
      "|    fps              | 1        |\n",
      "|    time_elapsed     | 232      |\n",
      "|    total_timesteps  | 432      |\n",
      "| train/              |          |\n",
      "|    learning_rate    | 0.0001   |\n",
      "|    loss             | 0.000436 |\n",
      "|    n_updates        | 107      |\n",
      "----------------------------------\n",
      "----------------------------------\n",
      "| rollout/            |          |\n",
      "|    ep_len_mean      | 11.7     |\n",
      "|    ep_rew_mean      | 11.7     |\n",
      "|    exploration_rate | 0.05     |\n",
      "| time/               |          |\n",
      "|    episodes         | 40       |\n",
      "|    fps              | 1        |\n",
      "|    time_elapsed     | 257      |\n",
      "|    total_timesteps  | 468      |\n",
      "| train/              |          |\n",
      "|    learning_rate    | 0.0001   |\n",
      "|    loss             | 0.000352 |\n",
      "|    n_updates        | 116      |\n",
      "----------------------------------\n",
      "----------------------------------\n",
      "| rollout/            |          |\n",
      "|    ep_len_mean      | 11.5     |\n",
      "|    ep_rew_mean      | 11.5     |\n",
      "|    exploration_rate | 0.05     |\n",
      "| time/               |          |\n",
      "|    episodes         | 44       |\n",
      "|    fps              | 1        |\n",
      "|    time_elapsed     | 283      |\n",
      "|    total_timesteps  | 506      |\n",
      "| train/              |          |\n",
      "|    learning_rate    | 0.0001   |\n",
      "|    loss             | 0.000243 |\n",
      "|    n_updates        | 126      |\n",
      "----------------------------------\n",
      "----------------------------------\n",
      "| rollout/            |          |\n",
      "|    ep_len_mean      | 11.8     |\n",
      "|    ep_rew_mean      | 11.8     |\n",
      "|    exploration_rate | 0.05     |\n",
      "| time/               |          |\n",
      "|    episodes         | 48       |\n",
      "|    fps              | 1        |\n",
      "|    time_elapsed     | 308      |\n",
      "|    total_timesteps  | 567      |\n",
      "| train/              |          |\n",
      "|    learning_rate    | 0.0001   |\n",
      "|    loss             | 0.000163 |\n",
      "|    n_updates        | 141      |\n",
      "----------------------------------\n",
      "----------------------------------\n",
      "| rollout/            |          |\n",
      "|    ep_len_mean      | 12       |\n",
      "|    ep_rew_mean      | 12       |\n",
      "|    exploration_rate | 0.05     |\n",
      "| time/               |          |\n",
      "|    episodes         | 52       |\n",
      "|    fps              | 1        |\n",
      "|    time_elapsed     | 334      |\n",
      "|    total_timesteps  | 623      |\n",
      "| train/              |          |\n",
      "|    learning_rate    | 0.0001   |\n",
      "|    loss             | 0.000233 |\n",
      "|    n_updates        | 155      |\n",
      "----------------------------------\n",
      "----------------------------------\n",
      "| rollout/            |          |\n",
      "|    ep_len_mean      | 11.8     |\n",
      "|    ep_rew_mean      | 11.8     |\n",
      "|    exploration_rate | 0.05     |\n",
      "| time/               |          |\n",
      "|    episodes         | 56       |\n",
      "|    fps              | 1        |\n",
      "|    time_elapsed     | 359      |\n",
      "|    total_timesteps  | 662      |\n",
      "| train/              |          |\n",
      "|    learning_rate    | 0.0001   |\n",
      "|    loss             | 0.00023  |\n",
      "|    n_updates        | 165      |\n",
      "----------------------------------\n",
      "----------------------------------\n",
      "| rollout/            |          |\n",
      "|    ep_len_mean      | 11.8     |\n",
      "|    ep_rew_mean      | 11.8     |\n",
      "|    exploration_rate | 0.05     |\n",
      "| time/               |          |\n",
      "|    episodes         | 60       |\n",
      "|    fps              | 1        |\n",
      "|    time_elapsed     | 385      |\n",
      "|    total_timesteps  | 708      |\n",
      "| train/              |          |\n",
      "|    learning_rate    | 0.0001   |\n",
      "|    loss             | 5.04e-05 |\n",
      "|    n_updates        | 176      |\n",
      "----------------------------------\n",
      "----------------------------------\n",
      "| rollout/            |          |\n",
      "|    ep_len_mean      | 11.8     |\n",
      "|    ep_rew_mean      | 11.8     |\n",
      "|    exploration_rate | 0.05     |\n",
      "| time/               |          |\n",
      "|    episodes         | 64       |\n",
      "|    fps              | 1        |\n",
      "|    time_elapsed     | 410      |\n",
      "|    total_timesteps  | 754      |\n",
      "| train/              |          |\n",
      "|    learning_rate    | 0.0001   |\n",
      "|    loss             | 0.00017  |\n",
      "|    n_updates        | 188      |\n",
      "----------------------------------\n"
     ]
    },
    {
     "name": "stdout",
     "output_type": "stream",
     "text": [
      "----------------------------------\n",
      "| rollout/            |          |\n",
      "|    ep_len_mean      | 11.7     |\n",
      "|    ep_rew_mean      | 11.7     |\n",
      "|    exploration_rate | 0.05     |\n",
      "| time/               |          |\n",
      "|    episodes         | 68       |\n",
      "|    fps              | 1        |\n",
      "|    time_elapsed     | 435      |\n",
      "|    total_timesteps  | 793      |\n",
      "| train/              |          |\n",
      "|    learning_rate    | 0.0001   |\n",
      "|    loss             | 0.000101 |\n",
      "|    n_updates        | 198      |\n",
      "----------------------------------\n",
      "----------------------------------\n",
      "| rollout/            |          |\n",
      "|    ep_len_mean      | 11.6     |\n",
      "|    ep_rew_mean      | 11.6     |\n",
      "|    exploration_rate | 0.05     |\n",
      "| time/               |          |\n",
      "|    episodes         | 72       |\n",
      "|    fps              | 1        |\n",
      "|    time_elapsed     | 461      |\n",
      "|    total_timesteps  | 837      |\n",
      "| train/              |          |\n",
      "|    learning_rate    | 0.0001   |\n",
      "|    loss             | 0.000237 |\n",
      "|    n_updates        | 209      |\n",
      "----------------------------------\n",
      "----------------------------------\n",
      "| rollout/            |          |\n",
      "|    ep_len_mean      | 11.5     |\n",
      "|    ep_rew_mean      | 11.5     |\n",
      "|    exploration_rate | 0.05     |\n",
      "| time/               |          |\n",
      "|    episodes         | 76       |\n",
      "|    fps              | 1        |\n",
      "|    time_elapsed     | 488      |\n",
      "|    total_timesteps  | 877      |\n",
      "| train/              |          |\n",
      "|    learning_rate    | 0.0001   |\n",
      "|    loss             | 0.000154 |\n",
      "|    n_updates        | 219      |\n",
      "----------------------------------\n",
      "----------------------------------\n",
      "| rollout/            |          |\n",
      "|    ep_len_mean      | 11.4     |\n",
      "|    ep_rew_mean      | 11.4     |\n",
      "|    exploration_rate | 0.05     |\n",
      "| time/               |          |\n",
      "|    episodes         | 80       |\n",
      "|    fps              | 1        |\n",
      "|    time_elapsed     | 514      |\n",
      "|    total_timesteps  | 913      |\n",
      "| train/              |          |\n",
      "|    learning_rate    | 0.0001   |\n",
      "|    loss             | 0.000106 |\n",
      "|    n_updates        | 228      |\n",
      "----------------------------------\n",
      "----------------------------------\n",
      "| rollout/            |          |\n",
      "|    ep_len_mean      | 11.3     |\n",
      "|    ep_rew_mean      | 11.3     |\n",
      "|    exploration_rate | 0.05     |\n",
      "| time/               |          |\n",
      "|    episodes         | 84       |\n",
      "|    fps              | 1        |\n",
      "|    time_elapsed     | 539      |\n",
      "|    total_timesteps  | 948      |\n",
      "| train/              |          |\n",
      "|    learning_rate    | 0.0001   |\n",
      "|    loss             | 0.000439 |\n",
      "|    n_updates        | 236      |\n",
      "----------------------------------\n",
      "----------------------------------\n",
      "| rollout/            |          |\n",
      "|    ep_len_mean      | 11.1     |\n",
      "|    ep_rew_mean      | 11.1     |\n",
      "|    exploration_rate | 0.05     |\n",
      "| time/               |          |\n",
      "|    episodes         | 88       |\n",
      "|    fps              | 1        |\n",
      "|    time_elapsed     | 565      |\n",
      "|    total_timesteps  | 981      |\n",
      "| train/              |          |\n",
      "|    learning_rate    | 0.0001   |\n",
      "|    loss             | 0.000663 |\n",
      "|    n_updates        | 245      |\n",
      "----------------------------------\n"
     ]
    },
    {
     "data": {
      "text/plain": [
       "<stable_baselines3.dqn.dqn.DQN at 0x1a339a3a010>"
      ]
     },
     "execution_count": 229,
     "metadata": {},
     "output_type": "execute_result"
    }
   ],
   "source": [
    "#kick off training \n",
    "model.learn(total_timesteps=1000, callback=callback)"
   ]
  },
  {
   "cell_type": "markdown",
   "id": "1e079010",
   "metadata": {},
   "source": [
    "## Test model"
   ]
  },
  {
   "cell_type": "code",
   "execution_count": 252,
   "id": "53c4ccc2",
   "metadata": {},
   "outputs": [],
   "source": [
    "model = DQN.load(os.path.join('train', 'best_model_1200'), buffer_size= 1000)"
   ]
  },
  {
   "cell_type": "code",
   "execution_count": 253,
   "id": "2d1fc369",
   "metadata": {},
   "outputs": [
    {
     "data": {
      "text/plain": [
       "<stable_baselines3.dqn.dqn.DQN at 0x1a340aedf50>"
      ]
     },
     "execution_count": 253,
     "metadata": {},
     "output_type": "execute_result"
    }
   ],
   "source": [
    "model"
   ]
  },
  {
   "cell_type": "code",
   "execution_count": 239,
   "id": "a9d0b391",
   "metadata": {},
   "outputs": [
    {
     "name": "stdout",
     "output_type": "stream",
     "text": [
      "Total Reward for episode 0 is 3\n",
      "Total Reward for episode 1 is 9\n",
      "Total Reward for episode 2 is 10\n",
      "Total Reward for episode 3 is 9\n",
      "Total Reward for episode 4 is 9\n"
     ]
    }
   ],
   "source": [
    "for episode in range(1): \n",
    "    obs, _ = env.reset()\n",
    "    done = False\n",
    "    total_reward = 0\n",
    "    while not done: \n",
    "        action, _ = model.predict(obs)\n",
    "        action = int(action)\n",
    "        obs, reward, done, done, info = env.step(action)\n",
    "        total_reward += reward\n",
    "    print('Total Reward for episode {} is {}'.format(episode, total_reward))\n",
    "\n"
   ]
  },
  {
   "cell_type": "code",
   "execution_count": null,
   "id": "5fe4915b",
   "metadata": {},
   "outputs": [],
   "source": []
  }
 ],
 "metadata": {
  "kernelspec": {
   "display_name": "Python 3 (ipykernel)",
   "language": "python",
   "name": "python3"
  },
  "language_info": {
   "codemirror_mode": {
    "name": "ipython",
    "version": 3
   },
   "file_extension": ".py",
   "mimetype": "text/x-python",
   "name": "python",
   "nbconvert_exporter": "python",
   "pygments_lexer": "ipython3",
   "version": "3.11.3"
  }
 },
 "nbformat": 4,
 "nbformat_minor": 5
}
